{
 "cells": [
  {
   "cell_type": "code",
   "execution_count": 3,
   "metadata": {},
   "outputs": [],
   "source": [
    "import sympy as sy\n",
    "import numpy as np"
   ]
  },
  {
   "cell_type": "code",
   "execution_count": 68,
   "metadata": {},
   "outputs": [],
   "source": [
    "class GenericWaveguide:\n",
    "    \"\"\"\n",
    "    Generic properties of a waveguide\n",
    "    \"\"\"\n",
    "    def __init__(\n",
    "        self,\n",
    "        critical_incident_angle = None,\n",
    "        incident_angle = None,\n",
    "        n_core = None,\n",
    "        n_cladding = None):\n",
    "        \n",
    "       \n",
    "        self.n_core = n_core\n",
    "        self.n_cladding = n_cladding\n",
    "        if(incident_angle):\n",
    "            self.incident_angle = np.deg2rad(incident_angle) # unit:degrees\n",
    "        else:\n",
    "            self.incident_angle = incident_angle # unit:degrees\n",
    "    \n",
    "    @property\n",
    "    def critical_incident_angle(self):\n",
    "        critical_incident_angle = sy.asin(self.n_core**2 - self.n_cladding**2).evalf()\n",
    "        return np.rad2deg(float(critical_incident_angle))\n",
    "    \n",
    "    @property\n",
    "    def relative_refractive_index(self):\n",
    "        return (n_core**2 - n_cladding**2)/(2 * n_cladding**2)\n",
    "    \n",
    "    @property\n",
    "    def numerical_aperture(self):\n",
    "        return n_core * sy.sqrt(2 * self.relative_refractive_index)\n",
    "    \n",
    "    @property\n",
    "    def mode_propagation_constants(self, k_mode):\n",
    "        beta = k_mode * n_core * sy.cos(self.incident_angle)\n",
    "        kappa = k_mode * n_core * sy.sin(self.incident_angle)\n",
    "        return {\"beta\": beta,\n",
    "                \"kappa\": kappa}\n",
    "    \n",
    "    @property\n",
    "    def reflection_cofficient(self):\n",
    "        reflected_amplitude = self.n_core * sy.sin(self.incident_angle) + \\\n",
    "                              1j * sy.cos((self.n_core**2) * sy.cos(self.incident_angle)**2 - self.n_cladding**2)\n",
    "        incident_amplitude = self.n_core * sy.sin(self.incident_angle) - \\\n",
    "                             1j * sy.cos((self.n_core**2) * sy.cos(self.incident_angle)**2 - self.n_cladding**2)\n",
    "        return reflected_amplitude / incident_amplitude\n",
    "    \n",
    "    @property\n",
    "    def phase_shift(self):\n",
    "        return -2 * sy.atan(sy.sqrt(self.n_core**2 * sy.cos(self.incident_angle)**2 - self.n_cladding**2) / \\\n",
    "                           (self.n_core * sy.sin(self.incident_angle)))"
   ]
  },
  {
   "cell_type": "code",
   "execution_count": 69,
   "metadata": {},
   "outputs": [
    {
     "data": {
      "text/plain": [
       "-12.122352244789123"
      ]
     },
     "execution_count": 69,
     "metadata": {},
     "output_type": "execute_result"
    }
   ],
   "source": [
    "a = GenericWaveguide(n_core = 1, n_cladding = 1.1, incident_angle=10)\n",
    "a.critical_incident_angle"
   ]
  },
  {
   "cell_type": "code",
   "execution_count": 99,
   "metadata": {},
   "outputs": [
    {
     "data": {
      "text/latex": [
       "$\\displaystyle -0.938056072083378 + 0.34648348536042 i$"
      ],
      "text/plain": [
       "-0.938056072083378 + 0.34648348536042*I"
      ]
     },
     "execution_count": 99,
     "metadata": {},
     "output_type": "execute_result"
    }
   ],
   "source": [
    "a.reflection_cofficient.evalf()"
   ]
  },
  {
   "cell_type": "code",
   "execution_count": 128,
   "metadata": {},
   "outputs": [],
   "source": [
    "DEFAULT_SIMULATION_CONFIGURATION = {\n",
    "    \"start_time\": 0,\n",
    "    \"duration\": 1e-6,\n",
    "    \"data_points\": 100\n",
    "}\n",
    "\n",
    "DEFAULT_WAVE_PROPERTIES = {\n",
    "    \"ideal_wavelength\" : 700e-9,\n",
    "}\n",
    "\n",
    "DEFAULT_PROPAGATION_CONSTANTS = {\"beta\": None,\n",
    "                                 \"kappa\": None}\n",
    "\n",
    "class Light:\n",
    "    \"\"\"\n",
    "    Generic instance with all properties of inputted, incident light.\n",
    "    \"\"\"\n",
    "    def __init__(self):\n",
    "        pass\n",
    "    \n",
    "    @property\n",
    "    def simulation_configuration(self,\n",
    "                                 simulation_configuration = DEFAULT_SIMULATION_CONFIGURATION):\n",
    "        simulation_time = np.linspace(simulation_configuration.start_time,\n",
    "                                      simulation_configuration.duration,\n",
    "                                      simulation_configuration.data_points)\n",
    "        return simulation_time\n",
    "    \n",
    "    @property\n",
    "    def wave_configuration(self,\n",
    "                           wave_configuration = DEFAULT_WAVE_PROPERTIES,\n",
    "                           propagation_constants = DEFAULT_PROPAGATION_CONSTANTS,\n",
    "                          ):\n",
    "        configuration = {}\n",
    "        configuration.update(wave_configuration)\n",
    "        configuration.update(propagation_constants)\n",
    "        configuration[\"ideal_angular_velocity\"] = configuration[\"ideal_wavelength\"] * 2 * sy.pi\n",
    "        return configuration\n",
    "    \n",
    "    @classmethod\n",
    "    def electric_field_vector(self):\n",
    "        pass"
   ]
  },
  {
   "cell_type": "code",
   "execution_count": 126,
   "metadata": {},
   "outputs": [
    {
     "data": {
      "text/plain": [
       "{'ideal_wavelength': 7e-07,\n",
       " 'beta': None,\n",
       " 'kappa': None,\n",
       " 'ideal_angular_velocity': 1.4e-6*pi}"
      ]
     },
     "execution_count": 126,
     "metadata": {},
     "output_type": "execute_result"
    }
   ],
   "source": [
    "l = Light()\n",
    "l.wave_configuration"
   ]
  },
  {
   "cell_type": "code",
   "execution_count": 127,
   "metadata": {},
   "outputs": [
    {
     "data": {
      "text/plain": [
       "<property at 0x7ff555617bd0>"
      ]
     },
     "execution_count": 127,
     "metadata": {},
     "output_type": "execute_result"
    }
   ],
   "source": [
    "l.electric_field_vector()"
   ]
  },
  {
   "cell_type": "code",
   "execution_count": null,
   "metadata": {},
   "outputs": [],
   "source": [
    "class SlabWaveguide(GenericWaveguide):\n",
    "    "
   ]
  }
 ],
 "metadata": {
  "kernelspec": {
   "display_name": "Python 3",
   "language": "python",
   "name": "python3"
  },
  "language_info": {
   "codemirror_mode": {
    "name": "ipython",
    "version": 3
   },
   "file_extension": ".py",
   "mimetype": "text/x-python",
   "name": "python",
   "nbconvert_exporter": "python",
   "pygments_lexer": "ipython3",
   "version": "3.8.3"
  }
 },
 "nbformat": 4,
 "nbformat_minor": 4
}
